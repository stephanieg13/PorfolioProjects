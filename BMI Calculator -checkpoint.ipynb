{
 "cells": [
  {
   "cell_type": "markdown",
   "id": "27c54c6b",
   "metadata": {},
   "source": [
    "# BMI Calculator \n",
    "\n",
    "https://mercer-health.com/services/weight-management-center/bmi-calculator"
   ]
  },
  {
   "cell_type": "code",
   "execution_count": null,
   "id": "1513fe16",
   "metadata": {},
   "outputs": [],
   "source": [
    "# BMI = (weight in pounds x 703) / (height in inches x height in inches)\n",
    "\n",
    "BMI\tClassification\tHealth Risk\n",
    "Under 18.5\tUnderweight\tMinimal\n",
    "18.5 - 24.9\tNormal Weight\tMinimal\n",
    "25 - 29.9\tOverweight\tIncreased\n",
    "30 - 34.9\tObese\tHigh\n",
    "35 - 39.9\tSeverely Obese\tVery High\n",
    "40 and over\tMorbidly Obese\tExtremely High\n"
   ]
  },
  {
   "cell_type": "code",
   "execution_count": null,
   "id": "9f86d3bf",
   "metadata": {},
   "outputs": [],
   "source": [
    "if BMI > 0: \n",
    "    if(BMI<18.5):\n",
    "        print(\"Underweight\")\n",
    "    elif(BMI<=24.9):\n",
    "        print(\"Normal\")\n",
    "    elif(BMI<=29.9):\n",
    "        print(\"Overweight\")\n",
    "    elif(BMI<=34.9):\n",
    "        print(\"Obese\")\n",
    "    elif(BMI<=39.9):\n",
    "        print(\"Severely Obese\")\n",
    "    else:\n",
    "        print(\"Morbidly Obese\")\n",
    "else:\n",
    "     print(\"Error\")"
   ]
  },
  {
   "cell_type": "code",
   "execution_count": 6,
   "id": "df29f12a",
   "metadata": {},
   "outputs": [
    {
     "name": "stdout",
     "output_type": "stream",
     "text": [
      "Enter your weight in pounds: 180\n",
      "Enter your height in inches: 72\n",
      "24.40972222222222\n",
      "Normal\n"
     ]
    }
   ],
   "source": [
    "weight = int(input(\"Enter your weight in pounds: \"))\n",
    "\n",
    "\n",
    "height = int(input(\"Enter your height in inches: \"))\n",
    "\n",
    "\n",
    "BMI = (weight * 703) / (height * height)\n",
    "\n",
    "print(BMI)\n",
    "\n",
    "\n",
    "if BMI > 0: \n",
    "    if(BMI<18.5):\n",
    "        print(\"Underweight\")\n",
    "    elif(BMI<=24.9):\n",
    "        print(\"Normal\")\n",
    "    elif(BMI<=29.9):\n",
    "        print(\"Overweight\")\n",
    "    elif(BMI<=34.9):\n",
    "        print(\"Obese\")\n",
    "    elif(BMI<=39.9):\n",
    "        print(\"Severely Obese\")\n",
    "    else:\n",
    "        print(\"Morbidly Obese\")\n",
    "else:\n",
    "     print(\"Error\")"
   ]
  },
  {
   "cell_type": "code",
   "execution_count": null,
   "id": "39262860",
   "metadata": {},
   "outputs": [],
   "source": []
  }
 ],
 "metadata": {
  "kernelspec": {
   "display_name": "Python 3 (ipykernel)",
   "language": "python",
   "name": "python3"
  },
  "language_info": {
   "codemirror_mode": {
    "name": "ipython",
    "version": 3
   },
   "file_extension": ".py",
   "mimetype": "text/x-python",
   "name": "python",
   "nbconvert_exporter": "python",
   "pygments_lexer": "ipython3",
   "version": "3.9.13"
  }
 },
 "nbformat": 4,
 "nbformat_minor": 5
}
